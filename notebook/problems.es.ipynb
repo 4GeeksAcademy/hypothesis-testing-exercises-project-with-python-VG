{
 "cells": [
  {
   "cell_type": "markdown",
   "id": "d9d036c6",
   "metadata": {},
   "source": [
    "# Problemas de prueba de hipótesis"
   ]
  },
  {
   "cell_type": "markdown",
   "id": "d157c4db",
   "metadata": {},
   "source": [
    "## Ejercicio 1\n",
    "\n",
    "Usted es un nutricionista que investiga dos tipos diferentes de dietas para ver si existe una diferencia significativa en la pérdida de peso después de un mes. Eliges dos grupos aleatorios de personas; un grupo sigue la primera dieta y el otro sigue la segunda. Al final del mes, se registra la pérdida de peso (en kg) de cada persona:\n",
    "\n",
    "| Diet 1 | Diet 2 |\n",
    "|:-------|:-------|\n",
    "| 2.0 | 3.0 |\n",
    "| 2.5 | 3.2 |\n",
    "| 3.0 | 3.1 |\n",
    "| 2.8 | 2.9 |\n",
    "| 2.3 | 2.8 |\n",
    "| 2.7 | 3.0 |\n",
    "| 2.5 | 3.2 |\n",
    "\n",
    "Con estos datos se busca responder a la siguiente pregunta: ¿Existe una diferencia significativa en la pérdida de peso promedio entre las personas que siguieron la primera dieta y las que siguieron la segunda dieta?\n",
    "\n",
    "Para sacar conclusiones, siga los siguientes puntos:\n",
    "\n",
    "-Enunciar la hipótesis: hipótesis nula y alternativa.\n",
    "-Realizar la prueba para comprobar la hipótesis. Puede utilizar la prueba t de Student.\n",
    "-Analizar las conclusiones."
   ]
  },
  {
   "cell_type": "code",
   "execution_count": 3,
   "id": "8e0f3cf0",
   "metadata": {},
   "outputs": [
    {
     "name": "stdout",
     "output_type": "stream",
     "text": [
      "Estadístico T: -3.5383407969933938\n",
      "Valor p: 0.004083270191713912\n"
     ]
    }
   ],
   "source": [
    "# TODO\n",
    "import pandas as pd\n",
    "import numpy as np\n",
    "import scipy.stats as stats\n",
    "\n",
    "df_dietas=pd.DataFrame([[2.0,3.0],[2.5,3.2],[3.0,3.1],[2.8,2.9],[2.3,2.8],[2.7,3.0],[2.5,3.2]], \n",
    "                columns=[\"Diet 1\", \"Diet 2\"])\n",
    "\n",
    "media_D1=df_dietas[\"Diet 1\"].mean()\n",
    "media_D2=df_dietas[\"Diet 2\"].mean()\n",
    "var_D1=df_dietas[\"Diet 1\"].var()\n",
    "var_D2=df_dietas[\"Diet 2\"].var()\n",
    "n1=len(df_dietas[\"Diet 1\"])\n",
    "n2=len(df_dietas[\"Diet 2\"])\n",
    "\n",
    "# Hipótesis nula y alternativa:\n",
    "# H_0: m_1 = m_2\n",
    "# H_1: m_1 != m_2\n",
    "\n",
    "# Estadístico T:\n",
    "\n",
    "T=(media_D1-media_D2)/(np.sqrt(var_D1/n1+var_D2/n2))\n",
    "\n",
    "# Grados de libertad:\n",
    "v=n1+n2-2\n",
    "\n",
    "# Valor p\n",
    "p_value = 2 * stats.t.cdf(T, v) if T < 0 else 2 * (1 - stats.t.cdf(T, v))\n",
    "\n",
    "\n",
    "print(f'Estadístico T: {T}')\n",
    "print(f'Valor p: {p_value}')\n"
   ]
  },
  {
   "cell_type": "markdown",
   "id": "b5e0e69f",
   "metadata": {},
   "source": [
    "Dado a que el valor p es menor al nivel de significancia de 0.05, tenemos suficiente evidencia para rechazar la hipótesis nula. Es decir que podemos concluir que la pérdida de peso promedio difiere entre las personas que siguieron la primera dieta y las que siguieron la segunda dieta."
   ]
  },
  {
   "cell_type": "markdown",
   "id": "f432e18e",
   "metadata": {},
   "source": [
    "## ANOVA\n",
    "\n",
    "**ANOVA** (*Analysis of Variance - Análisis de variación*) Es una técnica estadística utilizada para comparar las medidas de dos o más grupos. La idea detrás de ANOVA es descomponer la variabilidad total de los datos en dos componentes: variabilidad entre grupos y variabilidad dentro de los grupos:\n",
    "\n",
    "- **Variabilidad entre grupos**: Esta variabilidad se refiere a las diferencias entre las medias del grupo. Si esta variabilidad es considerablemente mayor que la variabilidad dentro del grupo, podría ser una indicación de que al menos una de las medias del grupo es diferente.\n",
    "- **Variabilidad dentro del grupo**: Esta variabilidad se refiere a la dispersión de los datos dentro de cada grupo. Si todos los grupos tienen una variabilidad similar, entonces cualquier diferencia notable en las medias de los grupos podría considerarse significativa.\n",
    "\n",
    "Las hipótesis en ANOVA suelen incluir:\n",
    "\n",
    "- **Hipótesis nula** ($H₀$): Las medias de todos los grupos son iguales.\n",
    "- **Hipótesis alternativa** ($H₁$): Al menos una de las medias del grupo es diferente.\n",
    "\n",
    "Si el resultado de la prueba ANOVA es significativo (por ejemplo, un valor p inferior a un umbral como 0,05), esto sugiere que al menos la media de un grupo es diferente."
   ]
  },
  {
   "cell_type": "markdown",
   "id": "fc5f3721",
   "metadata": {},
   "source": [
    "## Ejercicio 2\n",
    "\n",
    "Un agricultor decide probar tres tipos diferentes de fertilizantes para determinar si alguno es superior en términos de producción de maíz. El agricultor planta maíz en 15 parcelas idénticas y utiliza los tres fertilizantes (5 parcelas para cada tipo). Al final de la temporada mide el rendimiento de maíz (en kg) de cada parcela, con el siguiente resultado:\n",
    "\n",
    "| Fertilizante 1 | Fertilizante 2 | Fertilizante 3 |\n",
    "|:-------------|:-------------|:-------------|\n",
    "| 20 | 22 | 24 |\n",
    "| 21 | 21 | 23 |\n",
    "| 20 | 23 | 22 |\n",
    "| 19 | 22 | 23 |\n",
    "| 20 | 21 | 24 |\n",
    "\n",
    "Con estos datos busca responder la siguiente pregunta: ¿Existe una diferencia significativa en el rendimiento promedio del maíz entre los tres tipos de fertilizantes?\n",
    "\n",
    "Para ayudarte, sigue los siguientes puntos:\n",
    "\n",
    "-Enunciar la hipótesis: hipótesis nula y alternativa.\n",
    "-Realizar la prueba ANOVA.\n",
    "-Analizar las conclusiones.\n",
    "-Si un fertilizante es mejor que otro, ¿cómo podemos saberlo?"
   ]
  },
  {
   "cell_type": "code",
   "execution_count": null,
   "id": "eecad0ca",
   "metadata": {},
   "outputs": [
    {
     "name": "stdout",
     "output_type": "stream",
     "text": [
      "Estadístico F: 20.315789473684188\n",
      "Valor p: 0.00014047824793190475\n"
     ]
    }
   ],
   "source": [
    "# TODO\n",
    "\n",
    "import pandas as pd\n",
    "import numpy as np\n",
    "import scipy.stats as stats\n",
    "\n",
    "\n",
    "df_fertilizantes=pd.DataFrame([[20,22,24],[21,21,23],[20,23,22],[19,22,23],[20,21,24]], \n",
    "                columns=[\"Fertilizante 1\", \"Fertilizante 2\",\"Fertilizante 3\"])\n",
    "\n",
    "\n",
    "F1=df_fertilizantes[\"Fertilizante 1\"]\n",
    "F2=df_fertilizantes[\"Fertilizante 2\"]\n",
    "F3=df_fertilizantes[\"Fertilizante 3\"]\n",
    "\n",
    "# Hipótesis nula e hipótesis alternativa:\n",
    "\n",
    "# H_0: m_1 = m_2 = m_3\n",
    "# H_1: al menos una de las medias del grupo es ditinta.\n",
    "\n",
    "\n",
    "# Realizar ANOVA\n",
    "f_statistic, p_value = stats.f_oneway(F1, F2, F3)\n",
    "\n",
    "print(f'Estadístico F: {f_statistic}')\n",
    "print(f'Valor p: {p_value}')\n",
    "\n"
   ]
  },
  {
   "cell_type": "markdown",
   "id": "a28e3a48",
   "metadata": {},
   "source": [
    "Dado que el p-valor es 0.00014, que es bastante menor que el nivel de significancia común de\n",
    "0.05, rechazamos la hipótesis nula. Esto significa que hay evidencia suficiente para concluir que existen diferencias significativas en el rendimiento promedio de maíz entre al menos dos de los fertilizantes. Más aún, el valor del Estadístico F es bastante mayor a 1, con lo cual hay una mayor variabilidad entre los grupos comparado con la variabilidad dentro de los grupos, lo que sugiere una diferencia significativa entre los grupos."
   ]
  },
  {
   "cell_type": "code",
   "execution_count": 4,
   "id": "3d3bd862",
   "metadata": {},
   "outputs": [
    {
     "name": "stdout",
     "output_type": "stream",
     "text": [
      "Multiple Comparison of Means - Tukey HSD, FWER=0.05\n",
      "==================================================\n",
      "group1 group2 meandiff p-adj  lower  upper  reject\n",
      "--------------------------------------------------\n",
      "    F1     F2      1.8 0.0099 0.4572 3.1428   True\n",
      "    F1     F3      3.2 0.0001 1.8572 4.5428   True\n",
      "    F2     F3      1.4 0.0409 0.0572 2.7428   True\n",
      "--------------------------------------------------\n"
     ]
    }
   ],
   "source": [
    "import pandas as pd\n",
    "import numpy as np\n",
    "import scipy.stats as stats\n",
    "from statsmodels.stats.multicomp import pairwise_tukeyhsd\n",
    "\n",
    "# Prueba de Tukey para realzar comparación entre dos grupos.\n",
    "\n",
    "# Organizar los datos en un solo array con etiquetas de grupo\n",
    "rendimiento = np.concatenate([F1, F2, F3])\n",
    "grupos = ['F1'] * len(F1) + ['F2'] * len(F2) + ['F3'] * len(F3)\n",
    "\n",
    "# Realizar la prueba de Tukey\n",
    "tukey_resultados = pairwise_tukeyhsd(endog=rendimiento, groups=grupos, alpha=0.05)\n",
    "print(tukey_resultados)\n",
    "\n"
   ]
  },
  {
   "cell_type": "markdown",
   "id": "7b3489be",
   "metadata": {},
   "source": [
    "Podemos observar que los valores p son todos menores que el nivel de significancia común de\n",
    "0.05, lo que sugiere una diferencia significativa en el redimiento del maíz entre todos los grupos. Contabilizando dichos valores, podemos concluir que el Fertilizante 3 tiene un mayor rendimiento con respecto a los otros dos."
   ]
  }
 ],
 "metadata": {
  "kernelspec": {
   "display_name": "Python 3",
   "language": "python",
   "name": "python3"
  },
  "language_info": {
   "codemirror_mode": {
    "name": "ipython",
    "version": 3
   },
   "file_extension": ".py",
   "mimetype": "text/x-python",
   "name": "python",
   "nbconvert_exporter": "python",
   "pygments_lexer": "ipython3",
   "version": "3.11.4"
  }
 },
 "nbformat": 4,
 "nbformat_minor": 5
}
